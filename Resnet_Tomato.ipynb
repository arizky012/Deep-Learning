{
  "nbformat": 4,
  "nbformat_minor": 0,
  "metadata": {
    "colab": {
      "name": "Resnet_Tomato.ipynb",
      "provenance": [],
      "collapsed_sections": [],
      "mount_file_id": "1Ak8TJHKoA_5Z48w0Gn7VuorZ0hWJuYMt",
      "authorship_tag": "ABX9TyMudJ+BZtkWL2pWLRQu7dBw",
      "include_colab_link": true
    },
    "kernelspec": {
      "name": "python3",
      "display_name": "Python 3"
    },
    "accelerator": "GPU"
  },
  "cells": [
    {
      "cell_type": "markdown",
      "metadata": {
        "id": "view-in-github",
        "colab_type": "text"
      },
      "source": [
        "<a href=\"https://colab.research.google.com/github/arizky012/Deep-Learning/blob/master/Resnet_Tomato.ipynb\" target=\"_parent\"><img src=\"https://colab.research.google.com/assets/colab-badge.svg\" alt=\"Open In Colab\"/></a>"
      ]
    },
    {
      "cell_type": "code",
      "metadata": {
        "id": "occmoxJ2oJZJ",
        "colab_type": "code",
        "outputId": "880c1bc7-1898-4327-f151-33604e76702c",
        "colab": {
          "base_uri": "https://localhost:8080/",
          "height": 51
        }
      },
      "source": [
        "!ls\n",
        "%cd ./drive/My\\ Drive"
      ],
      "execution_count": 1,
      "outputs": [
        {
          "output_type": "stream",
          "text": [
            "drive  sample_data\n",
            "/content/drive/My Drive\n"
          ],
          "name": "stdout"
        }
      ]
    },
    {
      "cell_type": "code",
      "metadata": {
        "id": "gAYM683usO_M",
        "colab_type": "code",
        "colab": {}
      },
      "source": [
        "import numpy as np\n",
        "import pickle\n",
        "import cv2\n",
        "from os import listdir\n",
        "from sklearn.preprocessing import LabelBinarizer\n",
        "from keras.models import Sequential\n",
        "from keras.layers.normalization import BatchNormalization\n",
        "from keras.layers.convolutional import Conv2D\n",
        "from keras.layers.convolutional import MaxPooling2D\n",
        "from keras.layers.core import Activation, Flatten, Dropout, Dense\n",
        "from keras import backend as K\n",
        "from keras.preprocessing.image import ImageDataGenerator\n",
        "from keras.optimizers import Adam\n",
        "from keras.preprocessing import image\n",
        "from keras.preprocessing.image import img_to_array\n",
        "from sklearn.preprocessing import MultiLabelBinarizer\n",
        "from sklearn.model_selection import train_test_split\n",
        "import matplotlib.pyplot as plt\n",
        "\n",
        "from keras.applications.resnet import ResNet152"
      ],
      "execution_count": 0,
      "outputs": []
    },
    {
      "cell_type": "code",
      "metadata": {
        "id": "fHQjRetRuQ68",
        "colab_type": "code",
        "colab": {}
      },
      "source": [
        "EPOCHS = 50\n",
        "INIT_LR = 1e-3\n",
        "BS = 32\n",
        "default_image_size = tuple((224, 224))\n",
        "image_size = 0\n",
        "directory_root = './plantvillage-tomato-leaf-dataset/plantvillage/'\n",
        "width=224\n",
        "height=224\n",
        "depth=3"
      ],
      "execution_count": 0,
      "outputs": []
    },
    {
      "cell_type": "code",
      "metadata": {
        "id": "4DGoLpHCuX1T",
        "colab_type": "code",
        "colab": {}
      },
      "source": [
        "def convert_image_to_array(image_dir):\n",
        "    try:\n",
        "        image = cv2.imread(image_dir)\n",
        "        if image is not None :\n",
        "            image = cv2.resize(image, default_image_size)   \n",
        "            return img_to_array(image)\n",
        "        else :\n",
        "            return np.array([])\n",
        "    except Exception as e:\n",
        "        print(f\"Error : {e}\")\n",
        "        return None"
      ],
      "execution_count": 0,
      "outputs": []
    },
    {
      "cell_type": "code",
      "metadata": {
        "id": "kOmppDu8yX5g",
        "colab_type": "code",
        "outputId": "c7475277-32cf-450b-e44d-aa7e87577d3a",
        "colab": {
          "base_uri": "https://localhost:8080/",
          "height": 221
        }
      },
      "source": [
        "image_list, label_list = [], []\n",
        "try:\n",
        "    print(\"[INFO] Loading images ...\")\n",
        "    root_dir = listdir(directory_root)\n",
        "    for directory in root_dir :\n",
        "        # remove .DS_Store from list\n",
        "        if directory == \".DS_Store\" :\n",
        "            root_dir.remove(directory)\n",
        "\n",
        "    for plant_folder in root_dir :\n",
        "        plant_disease_folder_list = listdir(f\"{directory_root}/{plant_folder}\")\n",
        "        \n",
        "        for disease_folder in plant_disease_folder_list :\n",
        "            # remove .DS_Store from list\n",
        "            if disease_folder == \".DS_Store\" :\n",
        "                plant_disease_folder_list.remove(disease_folder)\n",
        "\n",
        "        for plant_disease_folder in plant_disease_folder_list:\n",
        "            print(f\"[INFO] Processing {plant_disease_folder} ...\")\n",
        "            plant_disease_image_list = listdir(f\"{directory_root}/{plant_folder}/{plant_disease_folder}/\")\n",
        "                \n",
        "            for single_plant_disease_image in plant_disease_image_list :\n",
        "                if single_plant_disease_image == \".DS_Store\" :\n",
        "                    plant_disease_image_list.remove(single_plant_disease_image)\n",
        "\n",
        "            for image in plant_disease_image_list[:200]:\n",
        "                image_directory = f\"{directory_root}/{plant_folder}/{plant_disease_folder}/{image}\"\n",
        "                if image_directory.endswith(\".jpg\") == True or image_directory.endswith(\".JPG\") == True:\n",
        "                    image_list.append(convert_image_to_array(image_directory))\n",
        "                    label_list.append(plant_disease_folder)\n",
        "    print(\"[INFO] Image loading completed\")  \n",
        "except Exception as e:\n",
        "    print(f\"Error : {e}\")"
      ],
      "execution_count": 6,
      "outputs": [
        {
          "output_type": "stream",
          "text": [
            "[INFO] Loading images ...\n",
            "[INFO] Processing Tomato___Spider_mites Two-spotted_spider_mite ...\n",
            "[INFO] Processing Tomato___Tomato_mosaic_virus ...\n",
            "[INFO] Processing Tomato___Septoria_leaf_spot ...\n",
            "[INFO] Processing Tomato___Early_blight ...\n",
            "[INFO] Processing Tomato___Bacterial_spot ...\n",
            "[INFO] Processing Tomato___Leaf_Mold ...\n",
            "[INFO] Processing Tomato___Target_Spot ...\n",
            "[INFO] Processing Tomato___Tomato_Yellow_Leaf_Curl_Virus ...\n",
            "[INFO] Processing Tomato___healthy ...\n",
            "[INFO] Processing Tomato___Late_blight ...\n",
            "[INFO] Image loading completed\n"
          ],
          "name": "stdout"
        }
      ]
    },
    {
      "cell_type": "code",
      "metadata": {
        "id": "LuzodSuy-zz8",
        "colab_type": "code",
        "colab": {}
      },
      "source": [
        "image_size = len(image_list)"
      ],
      "execution_count": 0,
      "outputs": []
    },
    {
      "cell_type": "code",
      "metadata": {
        "id": "NH8S7Z6F_DF_",
        "colab_type": "code",
        "colab": {
          "base_uri": "https://localhost:8080/",
          "height": 34
        },
        "outputId": "466bd87b-93db-48e1-ffba-0042ae122a56"
      },
      "source": [
        "print(image_size)"
      ],
      "execution_count": 8,
      "outputs": [
        {
          "output_type": "stream",
          "text": [
            "1999\n"
          ],
          "name": "stdout"
        }
      ]
    },
    {
      "cell_type": "code",
      "metadata": {
        "id": "uBOMb0vE_FKA",
        "colab_type": "code",
        "colab": {}
      },
      "source": [
        "label_binarizer = LabelBinarizer()\n",
        "image_labels = label_binarizer.fit_transform(label_list)\n",
        "pickle.dump(label_binarizer,open('label_transform.pkl', 'wb'))\n",
        "n_classes = len(label_binarizer.classes_)"
      ],
      "execution_count": 0,
      "outputs": []
    },
    {
      "cell_type": "code",
      "metadata": {
        "id": "Jaze-nN-_Hpo",
        "colab_type": "code",
        "colab": {
          "base_uri": "https://localhost:8080/",
          "height": 102
        },
        "outputId": "5279ae15-16ca-48a2-fc96-d5b22f64dc36"
      },
      "source": [
        "print(label_binarizer.classes_)"
      ],
      "execution_count": 10,
      "outputs": [
        {
          "output_type": "stream",
          "text": [
            "['Tomato___Bacterial_spot' 'Tomato___Early_blight' 'Tomato___Late_blight'\n",
            " 'Tomato___Leaf_Mold' 'Tomato___Septoria_leaf_spot'\n",
            " 'Tomato___Spider_mites Two-spotted_spider_mite' 'Tomato___Target_Spot'\n",
            " 'Tomato___Tomato_Yellow_Leaf_Curl_Virus' 'Tomato___Tomato_mosaic_virus'\n",
            " 'Tomato___healthy']\n"
          ],
          "name": "stdout"
        }
      ]
    },
    {
      "cell_type": "code",
      "metadata": {
        "id": "Qm3kuP6a_JzO",
        "colab_type": "code",
        "colab": {}
      },
      "source": [
        "np_image_list = np.array(image_list, dtype=np.float16) / 225.0"
      ],
      "execution_count": 0,
      "outputs": []
    },
    {
      "cell_type": "code",
      "metadata": {
        "id": "wkF1NN2j_N6G",
        "colab_type": "code",
        "colab": {
          "base_uri": "https://localhost:8080/",
          "height": 34
        },
        "outputId": "123cfc8f-0646-4a2d-a56c-8ef726ffa5db"
      },
      "source": [
        "print(\"[INFO] Spliting data to train, test\")\n",
        "x_train, x_test, y_train, y_test = train_test_split(np_image_list, image_labels, test_size=0.2, random_state = 42) "
      ],
      "execution_count": 12,
      "outputs": [
        {
          "output_type": "stream",
          "text": [
            "[INFO] Spliting data to train, test\n"
          ],
          "name": "stdout"
        }
      ]
    },
    {
      "cell_type": "code",
      "metadata": {
        "id": "uNFra6xe_R_l",
        "colab_type": "code",
        "colab": {}
      },
      "source": [
        "aug = ImageDataGenerator(\n",
        "    rotation_range=25, width_shift_range=0.1,\n",
        "    height_shift_range=0.1, shear_range=0.2, \n",
        "    zoom_range=0.2,horizontal_flip=True, \n",
        "    fill_mode=\"nearest\")"
      ],
      "execution_count": 0,
      "outputs": []
    },
    {
      "cell_type": "code",
      "metadata": {
        "id": "m0nI8xvb_USo",
        "colab_type": "code",
        "colab": {
          "base_uri": "https://localhost:8080/",
          "height": 51
        },
        "outputId": "bf1fbd5e-8388-4195-9de8-e5ab83cafd37"
      },
      "source": [
        "input_shape = (height, width, depth)\n",
        "\n",
        "restnet = ResNet152(include_top=False, weights='imagenet', input_shape=(height,width,3))\n",
        "output = restnet.layers[-1].output\n",
        "output = keras.layers.Flatten()(output)\n",
        "restnet = Model(restnet.input, output=output)\n",
        "\n",
        "for layer in restnet.layers:\n",
        "    layer.trainable = False\n",
        "  \n",
        "model = Sequential()\n",
        "model.add(restnet)\n",
        "model.add(Dense(512, activation='relu', input_dim=input_shape))\n",
        "model.add(Dropout(0.3))\n",
        "model.add(Dense(512, activation='relu'))\n",
        "model.add(Dropout(0.3))\n",
        "model.add(Dense(10, activation='softmax'))"
      ],
      "execution_count": 27,
      "outputs": [
        {
          "output_type": "stream",
          "text": [
            "/usr/local/lib/python3.6/dist-packages/ipykernel_launcher.py:6: UserWarning: Update your `Model` call to the Keras 2 API: `Model(Tensor(\"in..., outputs=Tensor(\"fl...)`\n",
            "  \n"
          ],
          "name": "stderr"
        }
      ]
    },
    {
      "cell_type": "code",
      "metadata": {
        "id": "hdys1q2P_dRR",
        "colab_type": "code",
        "colab": {
          "base_uri": "https://localhost:8080/",
          "height": 374
        },
        "outputId": "91a4f67e-7c26-4e0a-89fd-375285848e12"
      },
      "source": [
        "print(model.summary())"
      ],
      "execution_count": 28,
      "outputs": [
        {
          "output_type": "stream",
          "text": [
            "Model: \"sequential_4\"\n",
            "_________________________________________________________________\n",
            "Layer (type)                 Output Shape              Param #   \n",
            "=================================================================\n",
            "model_5 (Model)              (None, 100352)            58370944  \n",
            "_________________________________________________________________\n",
            "dense_8 (Dense)              (None, 512)               51380736  \n",
            "_________________________________________________________________\n",
            "dropout_5 (Dropout)          (None, 512)               0         \n",
            "_________________________________________________________________\n",
            "dense_9 (Dense)              (None, 512)               262656    \n",
            "_________________________________________________________________\n",
            "dropout_6 (Dropout)          (None, 512)               0         \n",
            "_________________________________________________________________\n",
            "dense_10 (Dense)             (None, 10)                5130      \n",
            "=================================================================\n",
            "Total params: 110,019,466\n",
            "Trainable params: 51,648,522\n",
            "Non-trainable params: 58,370,944\n",
            "_________________________________________________________________\n",
            "None\n"
          ],
          "name": "stdout"
        }
      ]
    },
    {
      "cell_type": "code",
      "metadata": {
        "id": "ZdbR1zxa_gRu",
        "colab_type": "code",
        "colab": {
          "base_uri": "https://localhost:8080/",
          "height": 34
        },
        "outputId": "2389c4fd-1ef7-4ee7-c58a-9288a4c1b86c"
      },
      "source": [
        "opt = Adam(lr=INIT_LR, decay=INIT_LR / EPOCHS)\n",
        "# distribution\n",
        "model.compile(loss=\"binary_crossentropy\", optimizer=opt,metrics=[\"accuracy\"])\n",
        "# train the network\n",
        "print(\"[INFO] training network...\")"
      ],
      "execution_count": 29,
      "outputs": [
        {
          "output_type": "stream",
          "text": [
            "[INFO] training network...\n"
          ],
          "name": "stdout"
        }
      ]
    },
    {
      "cell_type": "code",
      "metadata": {
        "id": "Ephc1YQn_s8g",
        "colab_type": "code",
        "colab": {
          "base_uri": "https://localhost:8080/",
          "height": 1000
        },
        "outputId": "f912762e-8b2d-4d4c-a164-de06d423b609"
      },
      "source": [
        "history = model.fit_generator(\n",
        "    aug.flow(x_train, y_train, batch_size=BS),\n",
        "    validation_data=(x_test, y_test),\n",
        "    steps_per_epoch=len(x_train) // BS,\n",
        "    epochs=EPOCHS, verbose=1\n",
        "    )"
      ],
      "execution_count": 30,
      "outputs": [
        {
          "output_type": "stream",
          "text": [
            "Epoch 1/50\n",
            "49/49 [==============================] - 43s 886ms/step - loss: 2.5051 - acc: 0.8277 - val_loss: 2.8935 - val_acc: 0.8195\n",
            "Epoch 2/50\n",
            "49/49 [==============================] - 20s 411ms/step - loss: 2.8825 - acc: 0.8202 - val_loss: 2.8935 - val_acc: 0.8195\n",
            "Epoch 3/50\n",
            "49/49 [==============================] - 20s 405ms/step - loss: 2.8765 - acc: 0.8206 - val_loss: 2.8935 - val_acc: 0.8195\n",
            "Epoch 4/50\n",
            "49/49 [==============================] - 19s 394ms/step - loss: 2.8828 - acc: 0.8202 - val_loss: 2.8935 - val_acc: 0.8195\n",
            "Epoch 5/50\n",
            "49/49 [==============================] - 19s 394ms/step - loss: 2.8847 - acc: 0.8200 - val_loss: 2.8935 - val_acc: 0.8195\n",
            "Epoch 6/50\n",
            "49/49 [==============================] - 19s 387ms/step - loss: 2.8951 - acc: 0.8194 - val_loss: 2.8935 - val_acc: 0.8195\n",
            "Epoch 7/50\n",
            "49/49 [==============================] - 19s 385ms/step - loss: 2.8806 - acc: 0.8203 - val_loss: 2.8935 - val_acc: 0.8195\n",
            "Epoch 8/50\n",
            "49/49 [==============================] - 19s 381ms/step - loss: 2.8662 - acc: 0.8212 - val_loss: 2.8935 - val_acc: 0.8195\n",
            "Epoch 9/50\n",
            "49/49 [==============================] - 19s 386ms/step - loss: 2.8850 - acc: 0.8200 - val_loss: 2.8935 - val_acc: 0.8195\n",
            "Epoch 10/50\n",
            "49/49 [==============================] - 18s 364ms/step - loss: 2.8806 - acc: 0.8203 - val_loss: 2.8935 - val_acc: 0.8195\n",
            "Epoch 11/50\n",
            "49/49 [==============================] - 18s 374ms/step - loss: 2.9277 - acc: 0.8174 - val_loss: 2.8935 - val_acc: 0.8195\n",
            "Epoch 12/50\n",
            "49/49 [==============================] - 18s 373ms/step - loss: 2.8687 - acc: 0.8210 - val_loss: 2.8935 - val_acc: 0.8195\n",
            "Epoch 13/50\n",
            "49/49 [==============================] - 18s 377ms/step - loss: 2.8682 - acc: 0.8211 - val_loss: 2.8935 - val_acc: 0.8195\n",
            "Epoch 14/50\n",
            "49/49 [==============================] - 17s 355ms/step - loss: 2.8993 - acc: 0.8191 - val_loss: 2.8935 - val_acc: 0.8195\n",
            "Epoch 15/50\n",
            "49/49 [==============================] - 18s 366ms/step - loss: 2.8520 - acc: 0.8221 - val_loss: 2.8935 - val_acc: 0.8195\n",
            "Epoch 16/50\n",
            "49/49 [==============================] - 18s 372ms/step - loss: 2.8646 - acc: 0.8213 - val_loss: 2.8935 - val_acc: 0.8195\n",
            "Epoch 17/50\n",
            "49/49 [==============================] - 18s 373ms/step - loss: 2.9335 - acc: 0.8170 - val_loss: 2.8935 - val_acc: 0.8195\n",
            "Epoch 18/50\n",
            "49/49 [==============================] - 18s 378ms/step - loss: 2.8827 - acc: 0.8202 - val_loss: 2.8935 - val_acc: 0.8195\n",
            "Epoch 19/50\n",
            "49/49 [==============================] - 18s 368ms/step - loss: 2.8461 - acc: 0.8225 - val_loss: 2.8935 - val_acc: 0.8195\n",
            "Epoch 20/50\n",
            "49/49 [==============================] - 19s 383ms/step - loss: 2.8848 - acc: 0.8200 - val_loss: 2.8935 - val_acc: 0.8195\n",
            "Epoch 21/50\n",
            "49/49 [==============================] - 18s 374ms/step - loss: 2.9014 - acc: 0.8190 - val_loss: 2.8935 - val_acc: 0.8195\n",
            "Epoch 22/50\n",
            "49/49 [==============================] - 18s 369ms/step - loss: 2.8848 - acc: 0.8200 - val_loss: 2.8935 - val_acc: 0.8195\n",
            "Epoch 23/50\n",
            "49/49 [==============================] - 18s 374ms/step - loss: 2.8890 - acc: 0.8198 - val_loss: 2.8935 - val_acc: 0.8195\n",
            "Epoch 24/50\n",
            "49/49 [==============================] - 19s 383ms/step - loss: 2.8683 - acc: 0.8211 - val_loss: 2.8935 - val_acc: 0.8195\n",
            "Epoch 25/50\n",
            "49/49 [==============================] - 18s 375ms/step - loss: 2.8910 - acc: 0.8197 - val_loss: 2.8935 - val_acc: 0.8195\n",
            "Epoch 26/50\n",
            "49/49 [==============================] - 18s 364ms/step - loss: 2.8991 - acc: 0.8191 - val_loss: 2.8935 - val_acc: 0.8195\n",
            "Epoch 27/50\n",
            "49/49 [==============================] - 18s 366ms/step - loss: 2.8808 - acc: 0.8203 - val_loss: 2.8935 - val_acc: 0.8195\n",
            "Epoch 28/50\n",
            "49/49 [==============================] - 19s 379ms/step - loss: 2.8847 - acc: 0.8200 - val_loss: 2.8935 - val_acc: 0.8195\n",
            "Epoch 29/50\n",
            "49/49 [==============================] - 18s 363ms/step - loss: 2.8850 - acc: 0.8200 - val_loss: 2.8935 - val_acc: 0.8195\n",
            "Epoch 30/50\n",
            "49/49 [==============================] - 18s 376ms/step - loss: 2.8641 - acc: 0.8213 - val_loss: 2.8935 - val_acc: 0.8195\n",
            "Epoch 31/50\n",
            "49/49 [==============================] - 19s 381ms/step - loss: 2.8911 - acc: 0.8196 - val_loss: 2.8935 - val_acc: 0.8195\n",
            "Epoch 32/50\n",
            "49/49 [==============================] - 18s 368ms/step - loss: 2.8889 - acc: 0.8198 - val_loss: 2.8935 - val_acc: 0.8195\n",
            "Epoch 33/50\n",
            "49/49 [==============================] - 18s 370ms/step - loss: 2.8641 - acc: 0.8213 - val_loss: 2.8935 - val_acc: 0.8195\n",
            "Epoch 34/50\n",
            "49/49 [==============================] - 18s 373ms/step - loss: 2.8830 - acc: 0.8202 - val_loss: 2.8935 - val_acc: 0.8195\n",
            "Epoch 35/50\n",
            "49/49 [==============================] - 18s 375ms/step - loss: 2.8949 - acc: 0.8194 - val_loss: 2.8935 - val_acc: 0.8195\n",
            "Epoch 36/50\n",
            "49/49 [==============================] - 18s 367ms/step - loss: 2.8951 - acc: 0.8194 - val_loss: 2.8935 - val_acc: 0.8195\n",
            "Epoch 37/50\n",
            "49/49 [==============================] - 18s 359ms/step - loss: 2.8728 - acc: 0.8208 - val_loss: 2.8935 - val_acc: 0.8195\n",
            "Epoch 38/50\n",
            "49/49 [==============================] - 18s 369ms/step - loss: 2.8745 - acc: 0.8207 - val_loss: 2.8935 - val_acc: 0.8195\n",
            "Epoch 39/50\n",
            "49/49 [==============================] - 18s 373ms/step - loss: 2.8909 - acc: 0.8197 - val_loss: 2.8935 - val_acc: 0.8195\n",
            "Epoch 40/50\n",
            "49/49 [==============================] - 19s 379ms/step - loss: 2.8910 - acc: 0.8197 - val_loss: 2.8935 - val_acc: 0.8195\n",
            "Epoch 41/50\n",
            "49/49 [==============================] - 18s 366ms/step - loss: 2.8828 - acc: 0.8202 - val_loss: 2.8935 - val_acc: 0.8195\n",
            "Epoch 42/50\n",
            "49/49 [==============================] - 18s 364ms/step - loss: 2.8644 - acc: 0.8213 - val_loss: 2.8935 - val_acc: 0.8195\n",
            "Epoch 43/50\n",
            "49/49 [==============================] - 18s 372ms/step - loss: 2.8990 - acc: 0.8192 - val_loss: 2.8935 - val_acc: 0.8195\n",
            "Epoch 44/50\n",
            "49/49 [==============================] - 19s 379ms/step - loss: 2.8809 - acc: 0.8203 - val_loss: 2.8935 - val_acc: 0.8195\n",
            "Epoch 45/50\n",
            "49/49 [==============================] - 18s 366ms/step - loss: 2.8890 - acc: 0.8198 - val_loss: 2.8935 - val_acc: 0.8195\n",
            "Epoch 46/50\n",
            "49/49 [==============================] - 19s 379ms/step - loss: 2.8766 - acc: 0.8206 - val_loss: 2.8935 - val_acc: 0.8195\n",
            "Epoch 47/50\n",
            "49/49 [==============================] - 18s 369ms/step - loss: 2.8786 - acc: 0.8204 - val_loss: 2.8935 - val_acc: 0.8195\n",
            "Epoch 48/50\n",
            "49/49 [==============================] - 17s 357ms/step - loss: 2.8972 - acc: 0.8193 - val_loss: 2.8935 - val_acc: 0.8195\n",
            "Epoch 49/50\n",
            "49/49 [==============================] - 18s 371ms/step - loss: 2.8684 - acc: 0.8211 - val_loss: 2.8935 - val_acc: 0.8195\n",
            "Epoch 50/50\n",
            "49/49 [==============================] - 18s 370ms/step - loss: 2.8869 - acc: 0.8199 - val_loss: 2.8935 - val_acc: 0.8195\n"
          ],
          "name": "stdout"
        }
      ]
    },
    {
      "cell_type": "code",
      "metadata": {
        "id": "kmfIsh3gGJcO",
        "colab_type": "code",
        "colab": {
          "base_uri": "https://localhost:8080/",
          "height": 545
        },
        "outputId": "68092983-4395-4b1d-e83f-c74de30ac3e2"
      },
      "source": [
        "acc = history.history['acc']\n",
        "val_acc = history.history['val_acc']\n",
        "loss = history.history['loss']\n",
        "val_loss = history.history['val_loss']\n",
        "epochs = range(1, len(acc) + 1)\n",
        "#Train and validation accuracy\n",
        "plt.plot(epochs, acc, 'b', label='Training accurarcy')\n",
        "plt.plot(epochs, val_acc, 'r', label='Validation accurarcy')\n",
        "plt.title('Training and Validation accurarcy')\n",
        "plt.legend()\n",
        "\n",
        "plt.figure()\n",
        "#Train and validation loss\n",
        "plt.plot(epochs, loss, 'b', label='Training loss')\n",
        "plt.plot(epochs, val_loss, 'r', label='Validation loss')\n",
        "plt.title('Training and Validation loss')\n",
        "plt.legend()\n",
        "plt.show()"
      ],
      "execution_count": 32,
      "outputs": [
        {
          "output_type": "display_data",
          "data": {
            "image/png": "[encoded data removed]",
            "text/plain": [
              "<Figure size 432x288 with 1 Axes>"
            ]
          },
          "metadata": {
            "tags": []
          }
        },
        {
          "output_type": "display_data",
          "data": {
            "image/png": "[encoded data removed]",
            "text/plain": [
              "<Figure size 432x288 with 1 Axes>"
            ]
          },
          "metadata": {
            "tags": []
          }
        }
      ]
    },
    {
      "cell_type": "code",
      "metadata": {
        "id": "DZUK_UD7HHvH",
        "colab_type": "code",
        "colab": {
          "base_uri": "https://localhost:8080/",
          "height": 68
        },
        "outputId": "541bc406-a0cd-46a2-f53c-bb3ab5bee190"
      },
      "source": [
        "print(\"[INFO] Calculating model accuracy\")\n",
        "scores = model.evaluate(x_test, y_test)\n",
        "print(f\"Test Accuracy: {scores[1]*100}\")"
      ],
      "execution_count": 31,
      "outputs": [
        {
          "output_type": "stream",
          "text": [
            "[INFO] Calculating model accuracy\n",
            "400/400 [==============================] - 2s 6ms/step\n",
            "Test Accuracy: 81.95000171661377\n"
          ],
          "name": "stdout"
        }
      ]
    }
  ]
}