{
  "nbformat": 4,
  "nbformat_minor": 0,
  "metadata": {
    "colab": {
      "name": "01_Vgg16.ipynb",
      "provenance": [],
      "collapsed_sections": [],
      "authorship_tag": "ABX9TyNw8XXed4Z5LgPzJFEAETo4",
      "include_colab_link": true
    },
    "kernelspec": {
      "name": "python3",
      "display_name": "Python 3"
    },
    "accelerator": "GPU"
  },
  "cells": [
    {
      "cell_type": "markdown",
      "metadata": {
        "id": "view-in-github",
        "colab_type": "text"
      },
      "source": [
        "<a href=\"https://colab.research.google.com/github/arizky012/Deep-Learning/blob/master/01_Vgg16.ipynb\" target=\"_parent\"><img src=\"https://colab.research.google.com/assets/colab-badge.svg\" alt=\"Open In Colab\"/></a>"
      ]
    },
    {
      "cell_type": "code",
      "metadata": {
        "id": "mg_iJA_atryH",
        "colab_type": "code",
        "outputId": "9baab0ab-c2cf-4d99-9aee-738a6b2fcafc",
        "colab": {
          "base_uri": "https://localhost:8080/",
          "height": 97
        }
      },
      "source": [
        "# libs import\n",
        "from keras.layers.convolutional import Convolution2D\n",
        "from keras.layers.convolutional import MaxPooling2D\n",
        "from keras.layers.core import Activation\n",
        "from keras.layers.core import Flatten\n",
        "from keras.layers.core import Dense\n",
        "from keras.models import Sequential\n",
        "from keras import models, layers\n",
        "from keras.optimizers import Adam\n",
        "from keras.utils import np_utils\n",
        "from sklearn.model_selection import train_test_split\n",
        "from sklearn.datasets import fetch_openml\n",
        "from tensorflow.python.util import deprecation\n",
        "\n",
        "import matplotlib.pyplot as plt\n",
        "import numpy as np\n",
        "import keras"
      ],
      "execution_count": 0,
      "outputs": [
        {
          "output_type": "stream",
          "text": [
            "Using TensorFlow backend.\n"
          ],
          "name": "stderr"
        },
        {
          "output_type": "display_data",
          "data": {
            "text/html": [
              "<p style=\"color: red;\">\n",
              "The default version of TensorFlow in Colab will soon switch to TensorFlow 2.x.<br>\n",
              "We recommend you <a href=\"https://www.tensorflow.org/guide/migrate\" target=\"_blank\">upgrade</a> now \n",
              "or ensure your notebook will continue to use TensorFlow 1.x via the <code>%tensorflow_version 1.x</code> magic:\n",
              "<a href=\"https://colab.research.google.com/notebooks/tensorflow_version.ipynb\" target=\"_blank\">more info</a>.</p>\n"
            ],
            "text/plain": [
              "<IPython.core.display.HTML object>"
            ]
          },
          "metadata": {
            "tags": []
          }
        }
      ]
    },
    {
      "cell_type": "code",
      "metadata": {
        "id": "XJI8gJgit7rq",
        "colab_type": "code",
        "colab": {}
      },
      "source": [
        "# fetching dataset\n",
        "dataset = fetch_openml('mnist_784')\n",
        "\n",
        "# suppress warning\n",
        "deprecation._PRINT_DEPRECATION_WARNINGS = False"
      ],
      "execution_count": 0,
      "outputs": []
    },
    {
      "cell_type": "code",
      "metadata": {
        "id": "XJfWDJBQt8Vq",
        "colab_type": "code",
        "colab": {}
      },
      "source": [
        "# reshaping\n",
        "data = dataset.data.reshape((dataset.data.shape[0], 28, 28))\n",
        "\n",
        "# reshaping + add new axis\n",
        "data = data[:, :, :, np.newaxis]"
      ],
      "execution_count": 0,
      "outputs": []
    },
    {
      "cell_type": "code",
      "metadata": {
        "id": "-aZkj9D4t-jc",
        "colab_type": "code",
        "colab": {}
      },
      "source": [
        "# skalakan dari range 0-255 menjadi range 0-1\n",
        "scaled_data = data / 255.0"
      ],
      "execution_count": 0,
      "outputs": []
    },
    {
      "cell_type": "code",
      "metadata": {
        "id": "glKPwIxFuBNE",
        "colab_type": "code",
        "colab": {}
      },
      "source": [
        "# split training & test\n",
        "(x_train, x_test, y_train, y_test) = train_test_split(\n",
        "    scaled_data,\n",
        "    dataset.target.astype(\"float32\"), \n",
        "    test_size = 0.20)"
      ],
      "execution_count": 0,
      "outputs": []
    },
    {
      "cell_type": "code",
      "metadata": {
        "id": "5MQOsQEPuC7f",
        "colab_type": "code",
        "outputId": "ee1cae81-cb4f-4f38-ada7-221d11a3488c",
        "colab": {
          "base_uri": "https://localhost:8080/",
          "height": 85
        }
      },
      "source": [
        "print(x_train.shape)\n",
        "print(y_train.shape)\n",
        "print(x_test.shape)\n",
        "print(y_test.shape)"
      ],
      "execution_count": 0,
      "outputs": [
        {
          "output_type": "stream",
          "text": [
            "(56000, 28, 28, 1)\n",
            "(56000,)\n",
            "(14000, 28, 28, 1)\n",
            "(14000,)\n"
          ],
          "name": "stdout"
        }
      ]
    },
    {
      "cell_type": "code",
      "metadata": {
        "id": "VFWDjeeKuDpd",
        "colab_type": "code",
        "colab": {}
      },
      "source": [
        "# transformasi target training dengan one-hot encoding\n",
        "y_train = np_utils.to_categorical(y_train, 10)\n",
        "\n",
        "# transformasi target testing dengan one-hot encoding\n",
        "y_test = np_utils.to_categorical(y_test, 10)\n",
        "\n",
        "# One hot encoding is a process by which categorical variables are \n",
        "# converted into a form that could be provided to ML algorithms to \n",
        "# do a better job in prediction."
      ],
      "execution_count": 0,
      "outputs": []
    },
    {
      "cell_type": "code",
      "metadata": {
        "id": "P3QtqxUsuGkh",
        "colab_type": "code",
        "outputId": "17ba5037-876e-4bae-8c18-75d73d874556",
        "colab": {
          "base_uri": "https://localhost:8080/",
          "height": 71
        }
      },
      "source": [
        "# instantiasikan model sequential kosong\n",
        "model = Sequential()"
      ],
      "execution_count": 0,
      "outputs": [
        {
          "output_type": "stream",
          "text": [
            "WARNING:tensorflow:From /usr/local/lib/python3.6/dist-packages/keras/backend/tensorflow_backend.py:66: The name tf.get_default_graph is deprecated. Please use tf.compat.v1.get_default_graph instead.\n",
            "\n"
          ],
          "name": "stdout"
        }
      ]
    },
    {
      "cell_type": "code",
      "metadata": {
        "id": "tJozrD2YuH96",
        "colab_type": "code",
        "colab": {}
      },
      "source": [
        "import warnings\n",
        "warnings.filterwarnings('ignore')"
      ],
      "execution_count": 0,
      "outputs": []
    },
    {
      "cell_type": "code",
      "metadata": {
        "id": "ahsldaZ7uIg6",
        "colab_type": "code",
        "colab": {}
      },
      "source": [
        "#C1\n",
        "model.add(layers.Conv2D(64, kernel_size=(3, 3), strides=(1, 1), activation=\"relu\", input_shape=(28,28,1), padding=\"same\"))\n",
        "model.add(layers.Conv2D(64, kernel_size=(3, 3), strides=(1, 1), activation=\"relu\", padding=\"same\"))\n",
        "model.add(layers.MaxPooling2D(pool_size=(2, 2), strides=(1, 1), padding=\"valid\"))\n",
        "#C2\n",
        "model.add(layers.Conv2D(128, kernel_size=(3, 3), strides=(1, 1), activation=\"relu\", padding=\"same\"))\n",
        "model.add(layers.Conv2D(128, kernel_size=(3, 3), strides=(1, 1), activation=\"relu\", padding=\"same\"))\n",
        "model.add(layers.MaxPooling2D(pool_size=(2, 2), strides=(1, 1), padding=\"valid\"))\n",
        "#C3\n",
        "model.add(layers.Conv2D(256, kernel_size=(3, 3), strides=(1, 1), activation=\"relu\", padding=\"same\"))\n",
        "model.add(layers.Conv2D(256, kernel_size=(3, 3), strides=(1, 1), activation=\"relu\", padding=\"same\"))\n",
        "model.add(layers.Conv2D(256, kernel_size=(3, 3), strides=(1, 1), activation=\"relu\", padding=\"same\"))\n",
        "model.add(layers.MaxPooling2D(pool_size=(2, 2), strides=(1, 1), padding=\"valid\"))\n",
        "#C4\n",
        "model.add(layers.Conv2D(512, kernel_size=(3, 3), strides=(1, 1), activation=\"relu\", padding=\"same\"))\n",
        "model.add(layers.Conv2D(512, kernel_size=(3, 3), strides=(1, 1), activation=\"relu\", padding=\"same\"))\n",
        "model.add(layers.Conv2D(512, kernel_size=(3, 3), strides=(1, 1), activation=\"relu\", padding=\"same\"))\n",
        "model.add(layers.MaxPooling2D(pool_size=(2, 2), strides=(1, 1), padding=\"valid\"))\n",
        "#C5\n",
        "model.add(layers.Conv2D(512, kernel_size=(3, 3), strides=(1, 1), activation=\"relu\", padding=\"same\"))\n",
        "model.add(layers.Conv2D(512, kernel_size=(3, 3), strides=(1, 1), activation=\"relu\", padding=\"same\"))\n",
        "model.add(layers.Conv2D(512, kernel_size=(3, 3), strides=(1, 1), activation=\"relu\", padding=\"same\"))\n",
        "model.add(layers.MaxPooling2D(pool_size=(2, 2), strides=(1, 1), padding=\"valid\"))\n",
        "\n",
        "#Flatten the CNN output so that we can connect it with fully connected layers\n",
        "model.add(layers.Flatten())\n",
        "model.add(layers.Dense(256, activation=\"relu\"))\n",
        "model.add(layers.Dropout(0.5))\n",
        "\n",
        "model.add(layers.Dense(256, activation=\"relu\"))\n",
        "model.add(layers.Dropout(0.5))\n",
        "\n",
        "#Output Layer (softmax activation)\n",
        "model.add(layers.Dense(10, activation=\"softmax\"))\n",
        "\n",
        "opt = Adam(lr=0.001)\n",
        "\n",
        "# model compiling\n",
        "model.compile(loss=keras.losses.categorical_crossentropy, optimizer=opt, metrics=[\"accuracy\"])\n"
      ],
      "execution_count": 0,
      "outputs": []
    },
    {
      "cell_type": "code",
      "metadata": {
        "id": "lo2ujXrduvgx",
        "colab_type": "code",
        "outputId": "943177a4-d4c7-4e95-f5b1-f86ef92066a2",
        "colab": {
          "base_uri": "https://localhost:8080/",
          "height": 969
        }
      },
      "source": [
        "model.summary()"
      ],
      "execution_count": 0,
      "outputs": [
        {
          "output_type": "stream",
          "text": [
            "Model: \"sequential_1\"\n",
            "_________________________________________________________________\n",
            "Layer (type)                 Output Shape              Param #   \n",
            "=================================================================\n",
            "conv2d_2 (Conv2D)            (None, 28, 28, 64)        640       \n",
            "_________________________________________________________________\n",
            "conv2d_3 (Conv2D)            (None, 28, 28, 64)        36928     \n",
            "_________________________________________________________________\n",
            "max_pooling2d_1 (MaxPooling2 (None, 27, 27, 64)        0         \n",
            "_________________________________________________________________\n",
            "conv2d_4 (Conv2D)            (None, 27, 27, 128)       73856     \n",
            "_________________________________________________________________\n",
            "conv2d_5 (Conv2D)            (None, 27, 27, 128)       147584    \n",
            "_________________________________________________________________\n",
            "max_pooling2d_2 (MaxPooling2 (None, 26, 26, 128)       0         \n",
            "_________________________________________________________________\n",
            "conv2d_6 (Conv2D)            (None, 26, 26, 256)       295168    \n",
            "_________________________________________________________________\n",
            "conv2d_7 (Conv2D)            (None, 26, 26, 256)       590080    \n",
            "_________________________________________________________________\n",
            "conv2d_8 (Conv2D)            (None, 26, 26, 256)       590080    \n",
            "_________________________________________________________________\n",
            "max_pooling2d_3 (MaxPooling2 (None, 25, 25, 256)       0         \n",
            "_________________________________________________________________\n",
            "conv2d_9 (Conv2D)            (None, 25, 25, 512)       1180160   \n",
            "_________________________________________________________________\n",
            "conv2d_10 (Conv2D)           (None, 25, 25, 512)       2359808   \n",
            "_________________________________________________________________\n",
            "conv2d_11 (Conv2D)           (None, 25, 25, 512)       2359808   \n",
            "_________________________________________________________________\n",
            "max_pooling2d_4 (MaxPooling2 (None, 24, 24, 512)       0         \n",
            "_________________________________________________________________\n",
            "conv2d_12 (Conv2D)           (None, 24, 24, 512)       2359808   \n",
            "_________________________________________________________________\n",
            "conv2d_13 (Conv2D)           (None, 24, 24, 512)       2359808   \n",
            "_________________________________________________________________\n",
            "conv2d_14 (Conv2D)           (None, 24, 24, 512)       2359808   \n",
            "_________________________________________________________________\n",
            "max_pooling2d_5 (MaxPooling2 (None, 23, 23, 512)       0         \n",
            "_________________________________________________________________\n",
            "flatten_1 (Flatten)          (None, 270848)            0         \n",
            "_________________________________________________________________\n",
            "dense_1 (Dense)              (None, 256)               69337344  \n",
            "_________________________________________________________________\n",
            "dropout_1 (Dropout)          (None, 256)               0         \n",
            "_________________________________________________________________\n",
            "dense_2 (Dense)              (None, 256)               65792     \n",
            "_________________________________________________________________\n",
            "dropout_2 (Dropout)          (None, 256)               0         \n",
            "_________________________________________________________________\n",
            "dense_3 (Dense)              (None, 10)                2570      \n",
            "=================================================================\n",
            "Total params: 84,119,242\n",
            "Trainable params: 84,119,242\n",
            "Non-trainable params: 0\n",
            "_________________________________________________________________\n"
          ],
          "name": "stdout"
        }
      ]
    },
    {
      "cell_type": "code",
      "metadata": {
        "id": "4-x--DwFxayO",
        "colab_type": "code",
        "outputId": "63675ef0-a78e-41b9-b910-12b812d01dd1",
        "colab": {
          "base_uri": "https://localhost:8080/",
          "height": 1000
        }
      },
      "source": [
        "# epoch 50\n",
        "hist = model.fit(x=x_train,y=y_train, epochs=50, batch_size=128, validation_data=(x_test, y_test), verbose=1)"
      ],
      "execution_count": 0,
      "outputs": [
        {
          "output_type": "stream",
          "text": [
            "Train on 56000 samples, validate on 14000 samples\n",
            "Epoch 1/50\n",
            "56000/56000 [==============================] - 313s 6ms/step - loss: 2.3121 - acc: 0.1106 - val_loss: 2.3013 - val_acc: 0.1136\n",
            "Epoch 2/50\n",
            "56000/56000 [==============================] - 314s 6ms/step - loss: 2.3016 - acc: 0.1120 - val_loss: 2.3013 - val_acc: 0.1136\n",
            "Epoch 3/50\n",
            "56000/56000 [==============================] - 314s 6ms/step - loss: 2.3014 - acc: 0.1123 - val_loss: 2.3012 - val_acc: 0.1136\n",
            "Epoch 4/50\n",
            "56000/56000 [==============================] - 315s 6ms/step - loss: 2.3013 - acc: 0.1123 - val_loss: 2.3014 - val_acc: 0.1136\n",
            "Epoch 5/50\n",
            "56000/56000 [==============================] - 315s 6ms/step - loss: 2.3013 - acc: 0.1123 - val_loss: 2.3013 - val_acc: 0.1136\n",
            "Epoch 6/50\n",
            "56000/56000 [==============================] - 315s 6ms/step - loss: 2.3013 - acc: 0.1123 - val_loss: 2.3013 - val_acc: 0.1136\n",
            "Epoch 7/50\n",
            "56000/56000 [==============================] - 315s 6ms/step - loss: 2.3013 - acc: 0.1123 - val_loss: 2.3011 - val_acc: 0.1136\n",
            "Epoch 8/50\n",
            "56000/56000 [==============================] - 314s 6ms/step - loss: 2.3012 - acc: 0.1123 - val_loss: 2.3011 - val_acc: 0.1136\n",
            "Epoch 9/50\n",
            "56000/56000 [==============================] - 315s 6ms/step - loss: 2.3013 - acc: 0.1123 - val_loss: 2.3012 - val_acc: 0.1136\n",
            "Epoch 10/50\n",
            "56000/56000 [==============================] - 314s 6ms/step - loss: 2.3013 - acc: 0.1123 - val_loss: 2.3011 - val_acc: 0.1136\n",
            "Epoch 11/50\n",
            "56000/56000 [==============================] - 314s 6ms/step - loss: 2.3013 - acc: 0.1123 - val_loss: 2.3011 - val_acc: 0.1136\n",
            "Epoch 12/50\n",
            "56000/56000 [==============================] - 314s 6ms/step - loss: 2.3013 - acc: 0.1123 - val_loss: 2.3011 - val_acc: 0.1136\n",
            "Epoch 13/50\n",
            "56000/56000 [==============================] - 314s 6ms/step - loss: 2.3012 - acc: 0.1123 - val_loss: 2.3012 - val_acc: 0.1136\n",
            "Epoch 14/50\n",
            "56000/56000 [==============================] - 314s 6ms/step - loss: 2.3013 - acc: 0.1123 - val_loss: 2.3012 - val_acc: 0.1136\n",
            "Epoch 15/50\n",
            "56000/56000 [==============================] - 314s 6ms/step - loss: 2.3013 - acc: 0.1123 - val_loss: 2.3012 - val_acc: 0.1136\n",
            "Epoch 16/50\n",
            "56000/56000 [==============================] - 314s 6ms/step - loss: 2.3013 - acc: 0.1123 - val_loss: 2.3012 - val_acc: 0.1136\n",
            "Epoch 17/50\n",
            "56000/56000 [==============================] - 314s 6ms/step - loss: 2.3012 - acc: 0.1123 - val_loss: 2.3012 - val_acc: 0.1136\n",
            "Epoch 18/50\n",
            "56000/56000 [==============================] - 314s 6ms/step - loss: 2.3013 - acc: 0.1123 - val_loss: 2.3012 - val_acc: 0.1136\n",
            "Epoch 19/50\n",
            "56000/56000 [==============================] - 314s 6ms/step - loss: 2.3012 - acc: 0.1123 - val_loss: 2.3011 - val_acc: 0.1136\n",
            "Epoch 20/50\n",
            "56000/56000 [==============================] - 314s 6ms/step - loss: 2.3012 - acc: 0.1123 - val_loss: 2.3011 - val_acc: 0.1136\n",
            "Epoch 21/50\n",
            "56000/56000 [==============================] - 314s 6ms/step - loss: 2.3012 - acc: 0.1123 - val_loss: 2.3011 - val_acc: 0.1136\n",
            "Epoch 22/50\n",
            "56000/56000 [==============================] - 315s 6ms/step - loss: 2.3012 - acc: 0.1123 - val_loss: 2.3011 - val_acc: 0.1136\n",
            "Epoch 23/50\n",
            "56000/56000 [==============================] - 314s 6ms/step - loss: 2.3012 - acc: 0.1123 - val_loss: 2.3011 - val_acc: 0.1136\n",
            "Epoch 24/50\n",
            "56000/56000 [==============================] - 315s 6ms/step - loss: 2.3012 - acc: 0.1123 - val_loss: 2.3012 - val_acc: 0.1136\n",
            "Epoch 25/50\n",
            "56000/56000 [==============================] - 315s 6ms/step - loss: 2.3013 - acc: 0.1123 - val_loss: 2.3012 - val_acc: 0.1136\n",
            "Epoch 26/50\n",
            "56000/56000 [==============================] - 315s 6ms/step - loss: 2.3012 - acc: 0.1123 - val_loss: 2.3011 - val_acc: 0.1136\n",
            "Epoch 27/50\n",
            "56000/56000 [==============================] - 315s 6ms/step - loss: 2.3012 - acc: 0.1123 - val_loss: 2.3012 - val_acc: 0.1136\n",
            "Epoch 28/50\n",
            "56000/56000 [==============================] - 314s 6ms/step - loss: 2.3012 - acc: 0.1123 - val_loss: 2.3012 - val_acc: 0.1136\n",
            "Epoch 29/50\n",
            "56000/56000 [==============================] - 314s 6ms/step - loss: 2.3013 - acc: 0.1123 - val_loss: 2.3012 - val_acc: 0.1136\n",
            "Epoch 30/50\n",
            "56000/56000 [==============================] - 314s 6ms/step - loss: 2.3012 - acc: 0.1123 - val_loss: 2.3012 - val_acc: 0.1136\n",
            "Epoch 31/50\n",
            "56000/56000 [==============================] - 315s 6ms/step - loss: 2.3012 - acc: 0.1123 - val_loss: 2.3012 - val_acc: 0.1136\n",
            "Epoch 32/50\n",
            "56000/56000 [==============================] - 315s 6ms/step - loss: 2.3013 - acc: 0.1123 - val_loss: 2.3012 - val_acc: 0.1136\n",
            "Epoch 33/50\n",
            "56000/56000 [==============================] - 314s 6ms/step - loss: 2.3013 - acc: 0.1123 - val_loss: 2.3012 - val_acc: 0.1136\n",
            "Epoch 34/50\n",
            "56000/56000 [==============================] - 314s 6ms/step - loss: 2.3012 - acc: 0.1123 - val_loss: 2.3012 - val_acc: 0.1136\n",
            "Epoch 35/50\n",
            "56000/56000 [==============================] - 314s 6ms/step - loss: 2.3012 - acc: 0.1123 - val_loss: 2.3012 - val_acc: 0.1136\n",
            "Epoch 36/50\n",
            "56000/56000 [==============================] - 314s 6ms/step - loss: 2.3012 - acc: 0.1123 - val_loss: 2.3012 - val_acc: 0.1136\n",
            "Epoch 37/50\n",
            "56000/56000 [==============================] - 314s 6ms/step - loss: 2.3013 - acc: 0.1123 - val_loss: 2.3012 - val_acc: 0.1136\n",
            "Epoch 38/50\n",
            "56000/56000 [==============================] - 314s 6ms/step - loss: 2.3013 - acc: 0.1123 - val_loss: 2.3011 - val_acc: 0.1136\n",
            "Epoch 39/50\n",
            "56000/56000 [==============================] - 314s 6ms/step - loss: 2.3012 - acc: 0.1123 - val_loss: 2.3012 - val_acc: 0.1136\n",
            "Epoch 40/50\n",
            "56000/56000 [==============================] - 314s 6ms/step - loss: 2.3012 - acc: 0.1123 - val_loss: 2.3012 - val_acc: 0.1136\n",
            "Epoch 41/50\n",
            "56000/56000 [==============================] - 314s 6ms/step - loss: 2.3013 - acc: 0.1123 - val_loss: 2.3012 - val_acc: 0.1136\n",
            "Epoch 42/50\n",
            "56000/56000 [==============================] - 315s 6ms/step - loss: 2.3012 - acc: 0.1123 - val_loss: 2.3012 - val_acc: 0.1136\n",
            "Epoch 43/50\n",
            "56000/56000 [==============================] - 315s 6ms/step - loss: 2.3012 - acc: 0.1123 - val_loss: 2.3012 - val_acc: 0.1136\n",
            "Epoch 44/50\n",
            "56000/56000 [==============================] - 315s 6ms/step - loss: 2.3012 - acc: 0.1123 - val_loss: 2.3012 - val_acc: 0.1136\n",
            "Epoch 45/50\n",
            "56000/56000 [==============================] - 315s 6ms/step - loss: 2.3013 - acc: 0.1123 - val_loss: 2.3012 - val_acc: 0.1136\n",
            "Epoch 46/50\n",
            "56000/56000 [==============================] - 315s 6ms/step - loss: 2.3012 - acc: 0.1123 - val_loss: 2.3012 - val_acc: 0.1136\n",
            "Epoch 47/50\n",
            "56000/56000 [==============================] - 315s 6ms/step - loss: 2.3013 - acc: 0.1123 - val_loss: 2.3012 - val_acc: 0.1136\n",
            "Epoch 48/50\n",
            "56000/56000 [==============================] - 315s 6ms/step - loss: 2.3012 - acc: 0.1123 - val_loss: 2.3012 - val_acc: 0.1136\n",
            "Epoch 49/50\n",
            "56000/56000 [==============================] - 315s 6ms/step - loss: 2.3012 - acc: 0.1123 - val_loss: 2.3011 - val_acc: 0.1136\n",
            "Epoch 50/50\n",
            "56000/56000 [==============================] - 315s 6ms/step - loss: 2.3012 - acc: 0.1123 - val_loss: 2.3012 - val_acc: 0.1136\n"
          ],
          "name": "stdout"
        }
      ]
    },
    {
      "cell_type": "code",
      "metadata": {
        "id": "AHyKG1gAy8l6",
        "colab_type": "code",
        "outputId": "8b7c3929-5919-4eb1-9932-f82a638c5175",
        "colab": {
          "base_uri": "https://localhost:8080/",
          "height": 51
        }
      },
      "source": [
        "test_score = model.evaluate(x_test, y_test)\n",
        "print(\"Test loss {:.4f}, accuracy {:.2f}%\".format(test_score[0], test_score[1] * 100))"
      ],
      "execution_count": 0,
      "outputs": [
        {
          "output_type": "stream",
          "text": [
            "14000/14000 [==============================] - 29s 2ms/step\n",
            "Test loss 2.3012, accuracy 11.36%\n"
          ],
          "name": "stdout"
        }
      ]
    },
    {
      "cell_type": "code",
      "metadata": {
        "id": "nGpVxLy2zBQG",
        "colab_type": "code",
        "outputId": "dc527d12-b212-4a5b-acd5-c3db45e40811",
        "colab": {
          "base_uri": "https://localhost:8080/",
          "height": 312
        }
      },
      "source": [
        "#plotting\n",
        "f, ax = plt.subplots()\n",
        "ax.plot([None] + hist.history[\"acc\"], \"o-\")\n",
        "ax.plot([None] + hist.history[\"val_acc\"], \"x-\")\n",
        "\n",
        "ax.legend([\"Train acc\", \"Validation acc\"], loc = 0)\n",
        "ax.set_title(\"Training/Validation acc per Epoch\")\n",
        "ax.set_xlabel(\"Epoch\")\n",
        "ax.set_ylabel(\"acc\") "
      ],
      "execution_count": 0,
      "outputs": [
        {
          "output_type": "execute_result",
          "data": {
            "text/plain": [
              "Text(0, 0.5, 'acc')"
            ]
          },
          "metadata": {
            "tags": []
          },
          "execution_count": 17
        },
        {
          "output_type": "display_data",
          "data": {
            "image/png": "[encoded data removed]",
            "text/plain": [
              "<Figure size 432x288 with 1 Axes>"
            ]
          },
          "metadata": {
            "tags": []
          }
        }
      ]
    },
    {
      "cell_type": "code",
      "metadata": {
        "id": "JnyTNnsHzC2P",
        "colab_type": "code",
        "outputId": "3640335e-0147-456c-9d02-93198eae458c",
        "colab": {
          "base_uri": "https://localhost:8080/",
          "height": 312
        }
      },
      "source": [
        "#plotting\n",
        "f, ax = plt.subplots()\n",
        "ax.plot([None] + hist.history[\"loss\"])\n",
        "ax.plot([None] + hist.history[\"val_loss\"])\n",
        "\n",
        "ax.legend([\"Train acc\", \"Validation acc\"], loc = 0)\n",
        "ax.set_title(\"Training/Validation acc per Epoch\")\n",
        "ax.set_xlabel(\"Epoch\")\n",
        "ax.set_ylabel(\"acc\")"
      ],
      "execution_count": 0,
      "outputs": [
        {
          "output_type": "execute_result",
          "data": {
            "text/plain": [
              "Text(0, 0.5, 'acc')"
            ]
          },
          "metadata": {
            "tags": []
          },
          "execution_count": 18
        },
        {
          "output_type": "display_data",
          "data": {
            "image/png": "[encoded data removed]",
            "text/plain": [
              "<Figure size 432x288 with 1 Axes>"
            ]
          },
          "metadata": {
            "tags": []
          }
        }
      ]
    }
  ]
}